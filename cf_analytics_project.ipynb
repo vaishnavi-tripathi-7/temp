{
 "cells": [
  {
   "cell_type": "code",
   "execution_count": 1,
   "metadata": {
    "id": "AaEWF-ZlI6oQ"
   },
   "outputs": [],
   "source": [
    "import matplotlib.pyplot as plt\n",
    "import pandas as pd\n",
    "import seaborn as sns\n",
    "import numpy as np"
   ]
  },
  {
   "cell_type": "code",
   "execution_count": 2,
   "metadata": {
    "id": "oSGCakfazsJs"
   },
   "outputs": [],
   "source": [
    "handle = 'vaishnavi17200tripathi'"
   ]
  },
  {
   "cell_type": "code",
   "execution_count": 3,
   "metadata": {
    "id": "mNdwadbVzDnJ"
   },
   "outputs": [],
   "source": [
    "import requests\n",
    "\n",
    "profile = f'https://codeforces.com/api/user.info?handles={handle}'\n",
    "submission = f'https://codeforces.com/api/user.status?handle={handle}'\n",
    "contest = f'https://codeforces.com/api/user.rating?handle={handle}'\n",
    "\n",
    "prof = requests.get(profile).json()\n",
    "sub = requests.get(submission).json()\n",
    "con = requests.get(contest).json()"
   ]
  },
  {
   "cell_type": "code",
   "execution_count": 4,
   "metadata": {
    "colab": {
     "base_uri": "https://localhost:8080/",
     "height": 81
    },
    "id": "3oK_-k-FznS3",
    "outputId": "28810836-9702-4d43-bc54-1487e09dfd97"
   },
   "outputs": [
    {
     "data": {
      "text/html": [
       "<div>\n",
       "<style scoped>\n",
       "    .dataframe tbody tr th:only-of-type {\n",
       "        vertical-align: middle;\n",
       "    }\n",
       "\n",
       "    .dataframe tbody tr th {\n",
       "        vertical-align: top;\n",
       "    }\n",
       "\n",
       "    .dataframe thead th {\n",
       "        text-align: right;\n",
       "    }\n",
       "</style>\n",
       "<table border=\"1\" class=\"dataframe\">\n",
       "  <thead>\n",
       "    <tr style=\"text-align: right;\">\n",
       "      <th></th>\n",
       "      <th>contestId</th>\n",
       "      <th>contestName</th>\n",
       "      <th>handle</th>\n",
       "      <th>rank</th>\n",
       "      <th>ratingUpdateTimeSeconds</th>\n",
       "      <th>oldRating</th>\n",
       "      <th>newRating</th>\n",
       "    </tr>\n",
       "  </thead>\n",
       "  <tbody>\n",
       "    <tr>\n",
       "      <th>10</th>\n",
       "      <td>2111</td>\n",
       "      <td>Educational Codeforces Round 179 (Rated for Di...</td>\n",
       "      <td>vaishnavi17200tripathi</td>\n",
       "      <td>6510</td>\n",
       "      <td>1748968500</td>\n",
       "      <td>1224</td>\n",
       "      <td>1210</td>\n",
       "    </tr>\n",
       "  </tbody>\n",
       "</table>\n",
       "</div>"
      ],
      "text/plain": [
       "    contestId                                        contestName  \\\n",
       "10       2111  Educational Codeforces Round 179 (Rated for Di...   \n",
       "\n",
       "                    handle  rank  ratingUpdateTimeSeconds  oldRating  \\\n",
       "10  vaishnavi17200tripathi  6510               1748968500       1224   \n",
       "\n",
       "    newRating  \n",
       "10       1210  "
      ]
     },
     "execution_count": 4,
     "metadata": {},
     "output_type": "execute_result"
    }
   ],
   "source": [
    "p = pd.DataFrame(prof['result'])\n",
    "s = pd.DataFrame(sub['result'])\n",
    "c = pd.DataFrame(con['result'])\n",
    "c.sample()"
   ]
  },
  {
   "cell_type": "markdown",
   "metadata": {
    "id": "QmLWdAZ8LRAb"
   },
   "source": [
    "# Looking at the  dfs"
   ]
  },
  {
   "cell_type": "code",
   "execution_count": 5,
   "metadata": {
    "colab": {
     "base_uri": "https://localhost:8080/",
     "height": 81
    },
    "id": "c9vcKAItMbiD",
    "outputId": "e72581ac-dc10-4570-c09b-2352becdd766"
   },
   "outputs": [
    {
     "data": {
      "text/html": [
       "<div>\n",
       "<style scoped>\n",
       "    .dataframe tbody tr th:only-of-type {\n",
       "        vertical-align: middle;\n",
       "    }\n",
       "\n",
       "    .dataframe tbody tr th {\n",
       "        vertical-align: top;\n",
       "    }\n",
       "\n",
       "    .dataframe thead th {\n",
       "        text-align: right;\n",
       "    }\n",
       "</style>\n",
       "<table border=\"1\" class=\"dataframe\">\n",
       "  <thead>\n",
       "    <tr style=\"text-align: right;\">\n",
       "      <th></th>\n",
       "      <th>contestId</th>\n",
       "      <th>contestName</th>\n",
       "      <th>handle</th>\n",
       "      <th>rank</th>\n",
       "      <th>ratingUpdateTimeSeconds</th>\n",
       "      <th>oldRating</th>\n",
       "      <th>newRating</th>\n",
       "    </tr>\n",
       "  </thead>\n",
       "  <tbody>\n",
       "    <tr>\n",
       "      <th>15</th>\n",
       "      <td>2123</td>\n",
       "      <td>Codeforces Round 1034 (Div. 3)</td>\n",
       "      <td>vaishnavi17200tripathi</td>\n",
       "      <td>6411</td>\n",
       "      <td>1751388600</td>\n",
       "      <td>1207</td>\n",
       "      <td>1223</td>\n",
       "    </tr>\n",
       "  </tbody>\n",
       "</table>\n",
       "</div>"
      ],
      "text/plain": [
       "    contestId                     contestName                  handle  rank  \\\n",
       "15       2123  Codeforces Round 1034 (Div. 3)  vaishnavi17200tripathi  6411   \n",
       "\n",
       "    ratingUpdateTimeSeconds  oldRating  newRating  \n",
       "15               1751388600       1207       1223  "
      ]
     },
     "execution_count": 5,
     "metadata": {},
     "output_type": "execute_result"
    }
   ],
   "source": [
    "c.sample()"
   ]
  },
  {
   "cell_type": "code",
   "execution_count": 6,
   "metadata": {
    "colab": {
     "base_uri": "https://localhost:8080/",
     "height": 170
    },
    "id": "zKJTlLIuLcLd",
    "outputId": "5842d3c0-af36-4651-8050-17c6d4bdcb8c"
   },
   "outputs": [
    {
     "data": {
      "text/html": [
       "<div>\n",
       "<style scoped>\n",
       "    .dataframe tbody tr th:only-of-type {\n",
       "        vertical-align: middle;\n",
       "    }\n",
       "\n",
       "    .dataframe tbody tr th {\n",
       "        vertical-align: top;\n",
       "    }\n",
       "\n",
       "    .dataframe thead th {\n",
       "        text-align: right;\n",
       "    }\n",
       "</style>\n",
       "<table border=\"1\" class=\"dataframe\">\n",
       "  <thead>\n",
       "    <tr style=\"text-align: right;\">\n",
       "      <th></th>\n",
       "      <th>id</th>\n",
       "      <th>contestId</th>\n",
       "      <th>creationTimeSeconds</th>\n",
       "      <th>relativeTimeSeconds</th>\n",
       "      <th>problem</th>\n",
       "      <th>author</th>\n",
       "      <th>programmingLanguage</th>\n",
       "      <th>verdict</th>\n",
       "      <th>testset</th>\n",
       "      <th>passedTestCount</th>\n",
       "      <th>timeConsumedMillis</th>\n",
       "      <th>memoryConsumedBytes</th>\n",
       "    </tr>\n",
       "  </thead>\n",
       "  <tbody>\n",
       "    <tr>\n",
       "      <th>64</th>\n",
       "      <td>325325431</td>\n",
       "      <td>2085</td>\n",
       "      <td>1750447576</td>\n",
       "      <td>2147483647</td>\n",
       "      <td>{'contestId': 2085, 'index': 'B', 'name': 'Ser...</td>\n",
       "      <td>{'contestId': 2085, 'participantId': 206665080...</td>\n",
       "      <td>C++17 (GCC 7-32)</td>\n",
       "      <td>WRONG_ANSWER</td>\n",
       "      <td>TESTS</td>\n",
       "      <td>1</td>\n",
       "      <td>46</td>\n",
       "      <td>0</td>\n",
       "    </tr>\n",
       "  </tbody>\n",
       "</table>\n",
       "</div>"
      ],
      "text/plain": [
       "           id  contestId  creationTimeSeconds  relativeTimeSeconds  \\\n",
       "64  325325431       2085           1750447576           2147483647   \n",
       "\n",
       "                                              problem  \\\n",
       "64  {'contestId': 2085, 'index': 'B', 'name': 'Ser...   \n",
       "\n",
       "                                               author programmingLanguage  \\\n",
       "64  {'contestId': 2085, 'participantId': 206665080...    C++17 (GCC 7-32)   \n",
       "\n",
       "         verdict testset  passedTestCount  timeConsumedMillis  \\\n",
       "64  WRONG_ANSWER   TESTS                1                  46   \n",
       "\n",
       "    memoryConsumedBytes  \n",
       "64                    0  "
      ]
     },
     "execution_count": 6,
     "metadata": {},
     "output_type": "execute_result"
    }
   ],
   "source": [
    "s.sample()"
   ]
  },
  {
   "cell_type": "code",
   "execution_count": 7,
   "metadata": {
    "colab": {
     "base_uri": "https://localhost:8080/",
     "height": 335
    },
    "id": "ZJTuyb5gLP2c",
    "outputId": "e46d6559-1c85-4322-ba05-2f69c089505f"
   },
   "outputs": [
    {
     "data": {
      "text/plain": [
       "verdict\n",
       "WRONG_ANSWER             176\n",
       "OK                       119\n",
       "TIME_LIMIT_EXCEEDED       26\n",
       "RUNTIME_ERROR             12\n",
       "COMPILATION_ERROR         10\n",
       "SKIPPED                    7\n",
       "MEMORY_LIMIT_EXCEEDED      1\n",
       "Name: count, dtype: int64"
      ]
     },
     "execution_count": 7,
     "metadata": {},
     "output_type": "execute_result"
    }
   ],
   "source": [
    "s['verdict'].value_counts()"
   ]
  },
  {
   "cell_type": "markdown",
   "metadata": {
    "id": "wA-ijSJC0Wgl"
   },
   "source": [
    "# Pretty print of data in 3 of the APIs"
   ]
  },
  {
   "cell_type": "code",
   "execution_count": 8,
   "metadata": {
    "colab": {
     "base_uri": "https://localhost:8080/"
    },
    "id": "sZUf1S5y0DWL",
    "outputId": "a4e65066-4840-496f-c706-78f3e6903ae0"
   },
   "outputs": [
    {
     "name": "stdout",
     "output_type": "stream",
     "text": [
      "{'avatar': 'https://userpic.codeforces.org/no-avatar.jpg',\n",
      " 'contribution': 0,\n",
      " 'friendOfCount': 4,\n",
      " 'handle': 'vaishnavi17200tripathi',\n",
      " 'lastOnlineTimeSeconds': 1751902004,\n",
      " 'maxRank': 'pupil',\n",
      " 'maxRating': 1250,\n",
      " 'rank': 'pupil',\n",
      " 'rating': 1213,\n",
      " 'registrationTimeSeconds': 1727975091,\n",
      " 'titlePhoto': 'https://userpic.codeforces.org/no-title.jpg'}\n"
     ]
    }
   ],
   "source": [
    "import pprint\n",
    "val = prof['result']\n",
    "pprint.pprint(val[0])"
   ]
  },
  {
   "cell_type": "code",
   "execution_count": 9,
   "metadata": {
    "colab": {
     "base_uri": "https://localhost:8080/"
    },
    "id": "nBLo0XFu0QFO",
    "outputId": "e35c1bfb-7868-4ef7-e20b-cd83c9042a8f"
   },
   "outputs": [
    {
     "name": "stdout",
     "output_type": "stream",
     "text": [
      "{'contestId': 2036,\n",
      " 'contestName': 'Codeforces Round 984 (Div. 3)',\n",
      " 'handle': 'vaishnavi17200tripathi',\n",
      " 'newRating': 423,\n",
      " 'oldRating': 0,\n",
      " 'rank': 9517,\n",
      " 'ratingUpdateTimeSeconds': 1730566200}\n"
     ]
    }
   ],
   "source": [
    "import pprint\n",
    "val = con['result']\n",
    "pprint.pprint(val[0])"
   ]
  },
  {
   "cell_type": "code",
   "execution_count": 10,
   "metadata": {
    "colab": {
     "base_uri": "https://localhost:8080/"
    },
    "id": "VjAGTUSN0N1a",
    "outputId": "62c082e5-a7a2-4719-f17f-274ea59ae7a3"
   },
   "outputs": [
    {
     "name": "stdout",
     "output_type": "stream",
     "text": [
      "{'author': {'contestId': 2041,\n",
      "            'ghost': False,\n",
      "            'members': [{'handle': 'vaishnavi17200tripathi'}],\n",
      "            'participantId': 212082103,\n",
      "            'participantType': 'PRACTICE',\n",
      "            'startTimeSeconds': 1732431900},\n",
      " 'contestId': 2041,\n",
      " 'creationTimeSeconds': 1749586874,\n",
      " 'id': 323825067,\n",
      " 'memoryConsumedBytes': 0,\n",
      " 'passedTestCount': 4,\n",
      " 'problem': {'contestId': 2041,\n",
      "             'index': 'B',\n",
      "             'name': 'Bowling Frame',\n",
      "             'rating': 1200,\n",
      "             'tags': ['binary search', 'brute force', 'math'],\n",
      "             'type': 'PROGRAMMING'},\n",
      " 'programmingLanguage': 'C++17 (GCC 7-32)',\n",
      " 'relativeTimeSeconds': 2147483647,\n",
      " 'testset': 'TESTS',\n",
      " 'timeConsumedMillis': 46,\n",
      " 'verdict': 'WRONG_ANSWER'}\n"
     ]
    }
   ],
   "source": [
    "import pprint\n",
    "val = sub['result']\n",
    "pprint.pprint(val[100])"
   ]
  },
  {
   "cell_type": "markdown",
   "metadata": {
    "id": "xqkxPL-N0h1B"
   },
   "source": [
    "# Working with contest"
   ]
  },
  {
   "cell_type": "code",
   "execution_count": 11,
   "metadata": {
    "id": "EOhGzFyS3Tcc"
   },
   "outputs": [],
   "source": [
    "def rating_change_ie_improvements():\n",
    "  ratings,label = rating_changes()\n",
    "  rating_diff=[]\n",
    "  for i in range(len(ratings)-1):\n",
    "    rating_diff.append(ratings[i+1] - ratings[i])\n",
    "  return rating_diff"
   ]
  },
  {
   "cell_type": "markdown",
   "metadata": {
    "id": "6fXE7TAe7-rn"
   },
   "source": [
    "# Creating dics"
   ]
  },
  {
   "cell_type": "code",
   "execution_count": 12,
   "metadata": {
    "id": "c5qslJny790t"
   },
   "outputs": [],
   "source": [
    "def dic_contest_submissions():\n",
    "    dic_contest = {}   # contestId -> set of problem names\n",
    "    dic_problem = {}  # problem name -> verdicts + tags + rating(if available)\n",
    "    dic_tags = {}  # tags -> count\n",
    "\n",
    "    for i in range(len(s)):\n",
    "        contest_id = s['contestId'].iloc[i]\n",
    "        problem = s['problem'].iloc[i]\n",
    "        problem_name = problem['name']\n",
    "        problem_tags = problem.get('tags', [])\n",
    "        problem_verdict = s['verdict'].iloc[i]\n",
    "        problem_rating = None\n",
    "        try :\n",
    "          problem_rating = problem['rating']\n",
    "        except:\n",
    "          problem_rating = None\n",
    "\n",
    "        # Contest dictionary: set of problem names\n",
    "        if contest_id in dic_contest:\n",
    "            dic_contest[contest_id].add(problem_name)\n",
    "        else:\n",
    "            dic_contest[contest_id] = {problem_name}\n",
    "\n",
    "\n",
    "        # Problem dictionary: verdict list + tags\n",
    "        if problem_name in dic_problem:\n",
    "            dic_problem[problem_name]['verdict'].append(problem_verdict)\n",
    "        else:\n",
    "            dic_problem[problem_name] = {\n",
    "                'verdict': [problem_verdict],\n",
    "                'tags': problem_tags,\n",
    "                'rating': problem_rating\n",
    "            }\n",
    "\n",
    "        # tags -> counts\n",
    "        for tag in problem_tags:\n",
    "            if tag in dic_tags:\n",
    "                dic_tags[tag] += 1\n",
    "            else:\n",
    "                dic_tags[tag] = 1\n",
    "\n",
    "    return dic_contest, dic_problem , dic_tags\n"
   ]
  },
  {
   "cell_type": "markdown",
   "metadata": {
    "id": "3MAxcnNpWn9b"
   },
   "source": [
    "# converting imp info to dataframe"
   ]
  },
  {
   "cell_type": "code",
   "execution_count": 13,
   "metadata": {
    "id": "GXxKxPJxPm8c"
   },
   "outputs": [],
   "source": [
    "contest , problem , tags  = dic_contest_submissions()"
   ]
  },
  {
   "cell_type": "code",
   "execution_count": 14,
   "metadata": {
    "colab": {
     "base_uri": "https://localhost:8080/",
     "height": 206
    },
    "id": "_ivt05YmUKAK",
    "outputId": "ff5ab125-2eef-48f7-a5b6-f1f584ceddd9"
   },
   "outputs": [
    {
     "data": {
      "text/html": [
       "<div>\n",
       "<style scoped>\n",
       "    .dataframe tbody tr th:only-of-type {\n",
       "        vertical-align: middle;\n",
       "    }\n",
       "\n",
       "    .dataframe tbody tr th {\n",
       "        vertical-align: top;\n",
       "    }\n",
       "\n",
       "    .dataframe thead th {\n",
       "        text-align: right;\n",
       "    }\n",
       "</style>\n",
       "<table border=\"1\" class=\"dataframe\">\n",
       "  <thead>\n",
       "    <tr style=\"text-align: right;\">\n",
       "      <th></th>\n",
       "      <th>Problem</th>\n",
       "      <th>Verdicts</th>\n",
       "      <th>Tags</th>\n",
       "      <th>Rating</th>\n",
       "    </tr>\n",
       "  </thead>\n",
       "  <tbody>\n",
       "    <tr>\n",
       "      <th>0</th>\n",
       "      <td>A Good Problem</td>\n",
       "      <td>[OK, WRONG_ANSWER, WRONG_ANSWER, OK, WRONG_ANS...</td>\n",
       "      <td>[bitmasks, constructive algorithms, math]</td>\n",
       "      <td>NaN</td>\n",
       "    </tr>\n",
       "    <tr>\n",
       "      <th>1</th>\n",
       "      <td>Line Segments</td>\n",
       "      <td>[OK, WRONG_ANSWER, WRONG_ANSWER]</td>\n",
       "      <td>[geometry, greedy, math]</td>\n",
       "      <td>NaN</td>\n",
       "    </tr>\n",
       "    <tr>\n",
       "      <th>2</th>\n",
       "      <td>Add or XOR</td>\n",
       "      <td>[OK]</td>\n",
       "      <td>[greedy, math]</td>\n",
       "      <td>NaN</td>\n",
       "    </tr>\n",
       "    <tr>\n",
       "      <th>3</th>\n",
       "      <td>Sasha and the Casino</td>\n",
       "      <td>[WRONG_ANSWER]</td>\n",
       "      <td>[binary search, brute force, constructive algo...</td>\n",
       "      <td>1400.0</td>\n",
       "    </tr>\n",
       "    <tr>\n",
       "      <th>4</th>\n",
       "      <td>Sakurako, Kosuke, and the Permutation</td>\n",
       "      <td>[OK, MEMORY_LIMIT_EXCEEDED]</td>\n",
       "      <td>[brute force, data structures, dfs and similar...</td>\n",
       "      <td>1400.0</td>\n",
       "    </tr>\n",
       "  </tbody>\n",
       "</table>\n",
       "</div>"
      ],
      "text/plain": [
       "                                 Problem  \\\n",
       "0                         A Good Problem   \n",
       "1                          Line Segments   \n",
       "2                             Add or XOR   \n",
       "3                   Sasha and the Casino   \n",
       "4  Sakurako, Kosuke, and the Permutation   \n",
       "\n",
       "                                            Verdicts  \\\n",
       "0  [OK, WRONG_ANSWER, WRONG_ANSWER, OK, WRONG_ANS...   \n",
       "1                   [OK, WRONG_ANSWER, WRONG_ANSWER]   \n",
       "2                                               [OK]   \n",
       "3                                     [WRONG_ANSWER]   \n",
       "4                        [OK, MEMORY_LIMIT_EXCEEDED]   \n",
       "\n",
       "                                                Tags  Rating  \n",
       "0          [bitmasks, constructive algorithms, math]     NaN  \n",
       "1                           [geometry, greedy, math]     NaN  \n",
       "2                                     [greedy, math]     NaN  \n",
       "3  [binary search, brute force, constructive algo...  1400.0  \n",
       "4  [brute force, data structures, dfs and similar...  1400.0  "
      ]
     },
     "execution_count": 14,
     "metadata": {},
     "output_type": "execute_result"
    }
   ],
   "source": [
    "problem_df = pd.DataFrame(problem.items(), columns=['Problem', 'Temp'])\n",
    "\n",
    "problem_df['Verdicts'] = problem_df['Temp'].apply(lambda x: x['verdict'])\n",
    "problem_df['Tags'] = problem_df['Temp'].apply(lambda x: x.get('tags', []))\n",
    "problem_df['Rating'] = problem_df['Temp'].apply(lambda x: x.get('rating', None))\n",
    "\n",
    "problem_df.drop(columns=['Temp'], inplace=True)\n",
    "\n",
    "problem_df.head()"
   ]
  },
  {
   "cell_type": "code",
   "execution_count": 15,
   "metadata": {
    "colab": {
     "base_uri": "https://localhost:8080/",
     "height": 206
    },
    "id": "HciPWWAaekCk",
    "outputId": "274b4b07-f80d-4ccd-ba1d-753ce18bbf5d"
   },
   "outputs": [
    {
     "data": {
      "text/html": [
       "<div>\n",
       "<style scoped>\n",
       "    .dataframe tbody tr th:only-of-type {\n",
       "        vertical-align: middle;\n",
       "    }\n",
       "\n",
       "    .dataframe tbody tr th {\n",
       "        vertical-align: top;\n",
       "    }\n",
       "\n",
       "    .dataframe thead th {\n",
       "        text-align: right;\n",
       "    }\n",
       "</style>\n",
       "<table border=\"1\" class=\"dataframe\">\n",
       "  <thead>\n",
       "    <tr style=\"text-align: right;\">\n",
       "      <th></th>\n",
       "      <th>Problem</th>\n",
       "      <th>Tags</th>\n",
       "      <th>Rating</th>\n",
       "      <th>Correct</th>\n",
       "      <th>TLE</th>\n",
       "      <th>MLE</th>\n",
       "      <th>Wrong</th>\n",
       "    </tr>\n",
       "  </thead>\n",
       "  <tbody>\n",
       "    <tr>\n",
       "      <th>0</th>\n",
       "      <td>A Good Problem</td>\n",
       "      <td>[bitmasks, constructive algorithms, math]</td>\n",
       "      <td>NaN</td>\n",
       "      <td>2</td>\n",
       "      <td>1</td>\n",
       "      <td>0</td>\n",
       "      <td>8</td>\n",
       "    </tr>\n",
       "    <tr>\n",
       "      <th>1</th>\n",
       "      <td>Line Segments</td>\n",
       "      <td>[geometry, greedy, math]</td>\n",
       "      <td>NaN</td>\n",
       "      <td>1</td>\n",
       "      <td>0</td>\n",
       "      <td>0</td>\n",
       "      <td>2</td>\n",
       "    </tr>\n",
       "    <tr>\n",
       "      <th>2</th>\n",
       "      <td>Add or XOR</td>\n",
       "      <td>[greedy, math]</td>\n",
       "      <td>NaN</td>\n",
       "      <td>1</td>\n",
       "      <td>0</td>\n",
       "      <td>0</td>\n",
       "      <td>0</td>\n",
       "    </tr>\n",
       "    <tr>\n",
       "      <th>3</th>\n",
       "      <td>Sasha and the Casino</td>\n",
       "      <td>[binary search, brute force, constructive algo...</td>\n",
       "      <td>1400.0</td>\n",
       "      <td>0</td>\n",
       "      <td>0</td>\n",
       "      <td>0</td>\n",
       "      <td>1</td>\n",
       "    </tr>\n",
       "    <tr>\n",
       "      <th>4</th>\n",
       "      <td>Sakurako, Kosuke, and the Permutation</td>\n",
       "      <td>[brute force, data structures, dfs and similar...</td>\n",
       "      <td>1400.0</td>\n",
       "      <td>1</td>\n",
       "      <td>0</td>\n",
       "      <td>1</td>\n",
       "      <td>0</td>\n",
       "    </tr>\n",
       "  </tbody>\n",
       "</table>\n",
       "</div>"
      ],
      "text/plain": [
       "                                 Problem  \\\n",
       "0                         A Good Problem   \n",
       "1                          Line Segments   \n",
       "2                             Add or XOR   \n",
       "3                   Sasha and the Casino   \n",
       "4  Sakurako, Kosuke, and the Permutation   \n",
       "\n",
       "                                                Tags  Rating  Correct  TLE  \\\n",
       "0          [bitmasks, constructive algorithms, math]     NaN        2    1   \n",
       "1                           [geometry, greedy, math]     NaN        1    0   \n",
       "2                                     [greedy, math]     NaN        1    0   \n",
       "3  [binary search, brute force, constructive algo...  1400.0        0    0   \n",
       "4  [brute force, data structures, dfs and similar...  1400.0        1    0   \n",
       "\n",
       "   MLE  Wrong  \n",
       "0    0      8  \n",
       "1    0      2  \n",
       "2    0      0  \n",
       "3    0      1  \n",
       "4    1      0  "
      ]
     },
     "execution_count": 15,
     "metadata": {},
     "output_type": "execute_result"
    }
   ],
   "source": [
    "problem_df['Correct'] = problem_df['Verdicts'].apply(lambda x: sum(v == 'OK' for v in x))\n",
    "problem_df['TLE'] = problem_df['Verdicts'].apply(lambda x: sum(v == 'TIME_LIMIT_EXCEEDED' for v in x))\n",
    "problem_df['MLE'] = problem_df['Verdicts'].apply(lambda x: sum(v == 'MEMORY_LIMIT_EXCEEDED' for v in x))\n",
    "\n",
    "problem_df['Wrong'] = problem_df['Verdicts'].apply(len) - problem_df['Correct'] - problem_df['TLE'] - problem_df['MLE']\n",
    "\n",
    "problem_df.drop(columns=['Verdicts'], inplace=True)\n",
    "\n",
    "\n",
    "problem_df.head()"
   ]
  },
  {
   "cell_type": "markdown",
   "metadata": {
    "id": "b0yKpgjLeeiy"
   },
   "source": [
    "## Contest df"
   ]
  },
  {
   "cell_type": "code",
   "execution_count": 16,
   "metadata": {
    "colab": {
     "base_uri": "https://localhost:8080/",
     "height": 81
    },
    "id": "H53w5Rs7T-v8",
    "outputId": "7b887f03-550c-444d-a4a6-974456c72921"
   },
   "outputs": [
    {
     "data": {
      "text/html": [
       "<div>\n",
       "<style scoped>\n",
       "    .dataframe tbody tr th:only-of-type {\n",
       "        vertical-align: middle;\n",
       "    }\n",
       "\n",
       "    .dataframe tbody tr th {\n",
       "        vertical-align: top;\n",
       "    }\n",
       "\n",
       "    .dataframe thead th {\n",
       "        text-align: right;\n",
       "    }\n",
       "</style>\n",
       "<table border=\"1\" class=\"dataframe\">\n",
       "  <thead>\n",
       "    <tr style=\"text-align: right;\">\n",
       "      <th></th>\n",
       "      <th>ContestId</th>\n",
       "      <th>Problems</th>\n",
       "      <th>Problems_Count</th>\n",
       "    </tr>\n",
       "  </thead>\n",
       "  <tbody>\n",
       "    <tr>\n",
       "      <th>2</th>\n",
       "      <td>2033</td>\n",
       "      <td>[Kousuke's Assignment, Sakurako, Kosuke, and t...</td>\n",
       "      <td>2</td>\n",
       "    </tr>\n",
       "  </tbody>\n",
       "</table>\n",
       "</div>"
      ],
      "text/plain": [
       "   ContestId                                           Problems  \\\n",
       "2       2033  [Kousuke's Assignment, Sakurako, Kosuke, and t...   \n",
       "\n",
       "   Problems_Count  \n",
       "2               2  "
      ]
     },
     "execution_count": 16,
     "metadata": {},
     "output_type": "execute_result"
    }
   ],
   "source": [
    "contest_df = pd.DataFrame(contest.items(), columns=['ContestId', 'Problems'])\n",
    "contest_df['Problems'] = contest_df['Problems'].apply(list)\n",
    "contest_df['Problems_Count'] = contest_df['Problems'].apply(len)\n",
    "\n",
    "contest_df.sample(1)"
   ]
  },
  {
   "cell_type": "markdown",
   "metadata": {
    "id": "vFES9Xgiean2"
   },
   "source": [
    "## Tags Df"
   ]
  },
  {
   "cell_type": "code",
   "execution_count": 17,
   "metadata": {
    "colab": {
     "base_uri": "https://localhost:8080/",
     "height": 81
    },
    "id": "Ow8Q8PnyTz4z",
    "outputId": "99e70238-f872-49a2-9b80-d21da6796f46"
   },
   "outputs": [
    {
     "data": {
      "text/html": [
       "<div>\n",
       "<style scoped>\n",
       "    .dataframe tbody tr th:only-of-type {\n",
       "        vertical-align: middle;\n",
       "    }\n",
       "\n",
       "    .dataframe tbody tr th {\n",
       "        vertical-align: top;\n",
       "    }\n",
       "\n",
       "    .dataframe thead th {\n",
       "        text-align: right;\n",
       "    }\n",
       "</style>\n",
       "<table border=\"1\" class=\"dataframe\">\n",
       "  <thead>\n",
       "    <tr style=\"text-align: right;\">\n",
       "      <th></th>\n",
       "      <th>Tag</th>\n",
       "      <th>Count</th>\n",
       "    </tr>\n",
       "  </thead>\n",
       "  <tbody>\n",
       "    <tr>\n",
       "      <th>3</th>\n",
       "      <td>geometry</td>\n",
       "      <td>15</td>\n",
       "    </tr>\n",
       "  </tbody>\n",
       "</table>\n",
       "</div>"
      ],
      "text/plain": [
       "        Tag  Count\n",
       "3  geometry     15"
      ]
     },
     "execution_count": 17,
     "metadata": {},
     "output_type": "execute_result"
    }
   ],
   "source": [
    "tags_df = pd.DataFrame(tags.items(), columns=['Tag', 'Count'])\n",
    "tags_df.sample(1)"
   ]
  },
  {
   "cell_type": "markdown",
   "metadata": {
    "id": "dbZkLWYZf9J_"
   },
   "source": [
    "# Final DataFrame"
   ]
  },
  {
   "cell_type": "code",
   "execution_count": 18,
   "metadata": {
    "colab": {
     "base_uri": "https://localhost:8080/",
     "height": 81
    },
    "id": "GgTC4Ep4gAl_",
    "outputId": "69d7db3f-14bd-4c91-b38b-72ddeea292b5"
   },
   "outputs": [
    {
     "data": {
      "text/html": [
       "<div>\n",
       "<style scoped>\n",
       "    .dataframe tbody tr th:only-of-type {\n",
       "        vertical-align: middle;\n",
       "    }\n",
       "\n",
       "    .dataframe tbody tr th {\n",
       "        vertical-align: top;\n",
       "    }\n",
       "\n",
       "    .dataframe thead th {\n",
       "        text-align: right;\n",
       "    }\n",
       "</style>\n",
       "<table border=\"1\" class=\"dataframe\">\n",
       "  <thead>\n",
       "    <tr style=\"text-align: right;\">\n",
       "      <th></th>\n",
       "      <th>Problem</th>\n",
       "      <th>Tags</th>\n",
       "      <th>Rating</th>\n",
       "      <th>Correct</th>\n",
       "      <th>TLE</th>\n",
       "      <th>MLE</th>\n",
       "      <th>Wrong</th>\n",
       "    </tr>\n",
       "  </thead>\n",
       "  <tbody>\n",
       "    <tr>\n",
       "      <th>77</th>\n",
       "      <td>SUMdamental Decomposition</td>\n",
       "      <td>[bitmasks, constructive algorithms, greedy, im...</td>\n",
       "      <td>1300.0</td>\n",
       "      <td>1</td>\n",
       "      <td>0</td>\n",
       "      <td>0</td>\n",
       "      <td>5</td>\n",
       "    </tr>\n",
       "  </tbody>\n",
       "</table>\n",
       "</div>"
      ],
      "text/plain": [
       "                      Problem  \\\n",
       "77  SUMdamental Decomposition   \n",
       "\n",
       "                                                 Tags  Rating  Correct  TLE  \\\n",
       "77  [bitmasks, constructive algorithms, greedy, im...  1300.0        1    0   \n",
       "\n",
       "    MLE  Wrong  \n",
       "77    0      5  "
      ]
     },
     "execution_count": 18,
     "metadata": {},
     "output_type": "execute_result"
    }
   ],
   "source": [
    "problem_df.sample()"
   ]
  },
  {
   "cell_type": "code",
   "execution_count": 19,
   "metadata": {
    "colab": {
     "base_uri": "https://localhost:8080/",
     "height": 81
    },
    "id": "7WUc0RzGgF6d",
    "outputId": "4542ce71-0a68-43ec-9ae7-f36f28cf0887"
   },
   "outputs": [
    {
     "data": {
      "text/html": [
       "<div>\n",
       "<style scoped>\n",
       "    .dataframe tbody tr th:only-of-type {\n",
       "        vertical-align: middle;\n",
       "    }\n",
       "\n",
       "    .dataframe tbody tr th {\n",
       "        vertical-align: top;\n",
       "    }\n",
       "\n",
       "    .dataframe thead th {\n",
       "        text-align: right;\n",
       "    }\n",
       "</style>\n",
       "<table border=\"1\" class=\"dataframe\">\n",
       "  <thead>\n",
       "    <tr style=\"text-align: right;\">\n",
       "      <th></th>\n",
       "      <th>Tag</th>\n",
       "      <th>Count</th>\n",
       "    </tr>\n",
       "  </thead>\n",
       "  <tbody>\n",
       "    <tr>\n",
       "      <th>21</th>\n",
       "      <td>combinatorics</td>\n",
       "      <td>6</td>\n",
       "    </tr>\n",
       "  </tbody>\n",
       "</table>\n",
       "</div>"
      ],
      "text/plain": [
       "              Tag  Count\n",
       "21  combinatorics      6"
      ]
     },
     "execution_count": 19,
     "metadata": {},
     "output_type": "execute_result"
    }
   ],
   "source": [
    "tags_df.sample()"
   ]
  },
  {
   "cell_type": "code",
   "execution_count": 20,
   "metadata": {
    "colab": {
     "base_uri": "https://localhost:8080/",
     "height": 81
    },
    "id": "b-8NIs69gKGj",
    "outputId": "fa85d616-cf22-485f-cbc3-e2789a50ffa1"
   },
   "outputs": [
    {
     "data": {
      "text/html": [
       "<div>\n",
       "<style scoped>\n",
       "    .dataframe tbody tr th:only-of-type {\n",
       "        vertical-align: middle;\n",
       "    }\n",
       "\n",
       "    .dataframe tbody tr th {\n",
       "        vertical-align: top;\n",
       "    }\n",
       "\n",
       "    .dataframe thead th {\n",
       "        text-align: right;\n",
       "    }\n",
       "</style>\n",
       "<table border=\"1\" class=\"dataframe\">\n",
       "  <thead>\n",
       "    <tr style=\"text-align: right;\">\n",
       "      <th></th>\n",
       "      <th>ContestId</th>\n",
       "      <th>Problems</th>\n",
       "      <th>Problems_Count</th>\n",
       "    </tr>\n",
       "  </thead>\n",
       "  <tbody>\n",
       "    <tr>\n",
       "      <th>26</th>\n",
       "      <td>2056</td>\n",
       "      <td>[Palindromic Subsequences]</td>\n",
       "      <td>1</td>\n",
       "    </tr>\n",
       "  </tbody>\n",
       "</table>\n",
       "</div>"
      ],
      "text/plain": [
       "    ContestId                    Problems  Problems_Count\n",
       "26       2056  [Palindromic Subsequences]               1"
      ]
     },
     "execution_count": 20,
     "metadata": {},
     "output_type": "execute_result"
    }
   ],
   "source": [
    "contest_df.sample()"
   ]
  },
  {
   "cell_type": "code",
   "execution_count": 21,
   "metadata": {
    "colab": {
     "base_uri": "https://localhost:8080/",
     "height": 81
    },
    "id": "EJz_tRzaqtpl",
    "outputId": "0eb26dc7-2650-432e-a5fe-1c949d9afcb8"
   },
   "outputs": [
    {
     "data": {
      "text/html": [
       "<div>\n",
       "<style scoped>\n",
       "    .dataframe tbody tr th:only-of-type {\n",
       "        vertical-align: middle;\n",
       "    }\n",
       "\n",
       "    .dataframe tbody tr th {\n",
       "        vertical-align: top;\n",
       "    }\n",
       "\n",
       "    .dataframe thead th {\n",
       "        text-align: right;\n",
       "    }\n",
       "</style>\n",
       "<table border=\"1\" class=\"dataframe\">\n",
       "  <thead>\n",
       "    <tr style=\"text-align: right;\">\n",
       "      <th></th>\n",
       "      <th>contestId</th>\n",
       "      <th>contestName</th>\n",
       "      <th>handle</th>\n",
       "      <th>rank</th>\n",
       "      <th>ratingUpdateTimeSeconds</th>\n",
       "      <th>oldRating</th>\n",
       "      <th>newRating</th>\n",
       "    </tr>\n",
       "  </thead>\n",
       "  <tbody>\n",
       "    <tr>\n",
       "      <th>14</th>\n",
       "      <td>2112</td>\n",
       "      <td>Educational Codeforces Round 180 (Rated for Di...</td>\n",
       "      <td>vaishnavi17200tripathi</td>\n",
       "      <td>6621</td>\n",
       "      <td>1750696500</td>\n",
       "      <td>1188</td>\n",
       "      <td>1207</td>\n",
       "    </tr>\n",
       "  </tbody>\n",
       "</table>\n",
       "</div>"
      ],
      "text/plain": [
       "    contestId                                        contestName  \\\n",
       "14       2112  Educational Codeforces Round 180 (Rated for Di...   \n",
       "\n",
       "                    handle  rank  ratingUpdateTimeSeconds  oldRating  \\\n",
       "14  vaishnavi17200tripathi  6621               1750696500       1188   \n",
       "\n",
       "    newRating  \n",
       "14       1207  "
      ]
     },
     "execution_count": 21,
     "metadata": {},
     "output_type": "execute_result"
    }
   ],
   "source": [
    "c.sample()"
   ]
  },
  {
   "cell_type": "code",
   "execution_count": 22,
   "metadata": {
    "colab": {
     "base_uri": "https://localhost:8080/",
     "height": 118
    },
    "id": "V-f9oj_Jq2uh",
    "outputId": "58305c8a-dcab-47ac-8b8a-db3630f9de72"
   },
   "outputs": [
    {
     "data": {
      "text/html": [
       "<div>\n",
       "<style scoped>\n",
       "    .dataframe tbody tr th:only-of-type {\n",
       "        vertical-align: middle;\n",
       "    }\n",
       "\n",
       "    .dataframe tbody tr th {\n",
       "        vertical-align: top;\n",
       "    }\n",
       "\n",
       "    .dataframe thead th {\n",
       "        text-align: right;\n",
       "    }\n",
       "</style>\n",
       "<table border=\"1\" class=\"dataframe\">\n",
       "  <thead>\n",
       "    <tr style=\"text-align: right;\">\n",
       "      <th></th>\n",
       "      <th>contribution</th>\n",
       "      <th>lastOnlineTimeSeconds</th>\n",
       "      <th>rating</th>\n",
       "      <th>friendOfCount</th>\n",
       "      <th>titlePhoto</th>\n",
       "      <th>rank</th>\n",
       "      <th>handle</th>\n",
       "      <th>maxRating</th>\n",
       "      <th>avatar</th>\n",
       "      <th>registrationTimeSeconds</th>\n",
       "      <th>maxRank</th>\n",
       "    </tr>\n",
       "  </thead>\n",
       "  <tbody>\n",
       "    <tr>\n",
       "      <th>0</th>\n",
       "      <td>0</td>\n",
       "      <td>1751902004</td>\n",
       "      <td>1213</td>\n",
       "      <td>4</td>\n",
       "      <td>https://userpic.codeforces.org/no-title.jpg</td>\n",
       "      <td>pupil</td>\n",
       "      <td>vaishnavi17200tripathi</td>\n",
       "      <td>1250</td>\n",
       "      <td>https://userpic.codeforces.org/no-avatar.jpg</td>\n",
       "      <td>1727975091</td>\n",
       "      <td>pupil</td>\n",
       "    </tr>\n",
       "  </tbody>\n",
       "</table>\n",
       "</div>"
      ],
      "text/plain": [
       "   contribution  lastOnlineTimeSeconds  rating  friendOfCount  \\\n",
       "0             0             1751902004    1213              4   \n",
       "\n",
       "                                    titlePhoto   rank                  handle  \\\n",
       "0  https://userpic.codeforces.org/no-title.jpg  pupil  vaishnavi17200tripathi   \n",
       "\n",
       "   maxRating                                        avatar  \\\n",
       "0       1250  https://userpic.codeforces.org/no-avatar.jpg   \n",
       "\n",
       "   registrationTimeSeconds maxRank  \n",
       "0               1727975091   pupil  "
      ]
     },
     "execution_count": 22,
     "metadata": {},
     "output_type": "execute_result"
    }
   ],
   "source": [
    "p.sample()"
   ]
  },
  {
   "cell_type": "markdown",
   "metadata": {
    "id": "yabwozzVrKQU"
   },
   "source": [
    "# VIsuals"
   ]
  },
  {
   "cell_type": "code",
   "execution_count": null,
   "metadata": {
    "id": "s5Gtr6PRrNZX"
   },
   "outputs": [],
   "source": []
  }
 ],
 "metadata": {
  "colab": {
   "provenance": []
  },
  "kernelspec": {
   "display_name": "Python [conda env:base] *",
   "language": "python",
   "name": "conda-base-py"
  },
  "language_info": {
   "codemirror_mode": {
    "name": "ipython",
    "version": 3
   },
   "file_extension": ".py",
   "mimetype": "text/x-python",
   "name": "python",
   "nbconvert_exporter": "python",
   "pygments_lexer": "ipython3",
   "version": "3.12.7"
  }
 },
 "nbformat": 4,
 "nbformat_minor": 4
}
